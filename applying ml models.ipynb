{
 "cells": [
  {
   "cell_type": "code",
   "execution_count": 1,
   "metadata": {},
   "outputs": [],
   "source": [
    "import numpy as np\n",
    "import matplotlib.pyplot as plt\n",
    "import pandas as pd\n",
    "import seaborn as sns\n"
   ]
  },
  {
   "cell_type": "code",
   "execution_count": 2,
   "metadata": {},
   "outputs": [
    {
     "data": {
      "text/html": [
       "<div>\n",
       "<style scoped>\n",
       "    .dataframe tbody tr th:only-of-type {\n",
       "        vertical-align: middle;\n",
       "    }\n",
       "\n",
       "    .dataframe tbody tr th {\n",
       "        vertical-align: top;\n",
       "    }\n",
       "\n",
       "    .dataframe thead th {\n",
       "        text-align: right;\n",
       "    }\n",
       "</style>\n",
       "<table border=\"1\" class=\"dataframe\">\n",
       "  <thead>\n",
       "    <tr style=\"text-align: right;\">\n",
       "      <th></th>\n",
       "      <th>groups</th>\n",
       "      <th>type</th>\n",
       "      <th>data</th>\n",
       "      <th>label</th>\n",
       "      <th>coords</th>\n",
       "    </tr>\n",
       "  </thead>\n",
       "  <tbody>\n",
       "    <tr>\n",
       "      <th>270</th>\n",
       "      <td>ACME VISUAL SYSTEMS</td>\n",
       "      <td>(acm visual system, text,text,text, 2337, 1653)</td>\n",
       "      <td>14754</td>\n",
       "      <td>0</td>\n",
       "      <td>[511.0, 143.0, 1217.0, 189.0, 864.0, 166.0]</td>\n",
       "    </tr>\n",
       "    <tr>\n",
       "      <th>271</th>\n",
       "      <td>TAX INVOICE</td>\n",
       "      <td>(tax invoic, text,text, 2337, 1653)</td>\n",
       "      <td>14754</td>\n",
       "      <td>0</td>\n",
       "      <td>[717.0, 264.0, 877.0, 284.0, 797.0, 274.0]</td>\n",
       "    </tr>\n",
       "    <tr>\n",
       "      <th>272</th>\n",
       "      <td>ACME VISUAL SYSTEMS</td>\n",
       "      <td>(acm visual system, text,text,text, 2337, 1653)</td>\n",
       "      <td>14754</td>\n",
       "      <td>0</td>\n",
       "      <td>[166.0, 351.0, 435.0, 369.0, 300.5, 360.0]</td>\n",
       "    </tr>\n",
       "    <tr>\n",
       "      <th>273</th>\n",
       "      <td>808, JANTA FLAT, GTB ENCLAVE, NANAD NAGARI</td>\n",
       "      <td>(number janta flat gtb enclav nanad nagari, nu...</td>\n",
       "      <td>14754</td>\n",
       "      <td>0</td>\n",
       "      <td>[167.0, 384.0, 712.0, 403.0, 439.5, 393.5]</td>\n",
       "    </tr>\n",
       "    <tr>\n",
       "      <th>274</th>\n",
       "      <td>DELHI-110093</td>\n",
       "      <td>(delhi-110093, text, 2337, 1653)</td>\n",
       "      <td>14754</td>\n",
       "      <td>0</td>\n",
       "      <td>[168.0, 417.0, 323.0, 436.0, 245.5, 426.5]</td>\n",
       "    </tr>\n",
       "  </tbody>\n",
       "</table>\n",
       "</div>"
      ],
      "text/plain": [
       "                                         groups  \\\n",
       "270                         ACME VISUAL SYSTEMS   \n",
       "271                                 TAX INVOICE   \n",
       "272                         ACME VISUAL SYSTEMS   \n",
       "273  808, JANTA FLAT, GTB ENCLAVE, NANAD NAGARI   \n",
       "274                                DELHI-110093   \n",
       "\n",
       "                                                  type   data  label  \\\n",
       "270    (acm visual system, text,text,text, 2337, 1653)  14754      0   \n",
       "271                (tax invoic, text,text, 2337, 1653)  14754      0   \n",
       "272    (acm visual system, text,text,text, 2337, 1653)  14754      0   \n",
       "273  (number janta flat gtb enclav nanad nagari, nu...  14754      0   \n",
       "274                   (delhi-110093, text, 2337, 1653)  14754      0   \n",
       "\n",
       "                                          coords  \n",
       "270  [511.0, 143.0, 1217.0, 189.0, 864.0, 166.0]  \n",
       "271   [717.0, 264.0, 877.0, 284.0, 797.0, 274.0]  \n",
       "272   [166.0, 351.0, 435.0, 369.0, 300.5, 360.0]  \n",
       "273   [167.0, 384.0, 712.0, 403.0, 439.5, 393.5]  \n",
       "274   [168.0, 417.0, 323.0, 436.0, 245.5, 426.5]  "
      ]
     },
     "execution_count": 2,
     "metadata": {},
     "output_type": "execute_result"
    }
   ],
   "source": [
    "df = pd.read_pickle('df_train_api.pk')\n",
    "df.head()"
   ]
  },
  {
   "cell_type": "code",
   "execution_count": 3,
   "metadata": {},
   "outputs": [],
   "source": [
    "X = df[['groups']]\n",
    "y = df['label']\n",
    "df0 = df.query('label==0').sample(frac = 0.1)\n",
    "df = df[df.label != 0]\n",
    "df = pd.concat([df, df0], ignore_index=True)"
   ]
  },
  {
   "cell_type": "code",
   "execution_count": 4,
   "metadata": {},
   "outputs": [
    {
     "data": {
      "text/html": [
       "<div>\n",
       "<style scoped>\n",
       "    .dataframe tbody tr th:only-of-type {\n",
       "        vertical-align: middle;\n",
       "    }\n",
       "\n",
       "    .dataframe tbody tr th {\n",
       "        vertical-align: top;\n",
       "    }\n",
       "\n",
       "    .dataframe thead th {\n",
       "        text-align: right;\n",
       "    }\n",
       "</style>\n",
       "<table border=\"1\" class=\"dataframe\">\n",
       "  <thead>\n",
       "    <tr style=\"text-align: right;\">\n",
       "      <th></th>\n",
       "      <th>groups</th>\n",
       "    </tr>\n",
       "  </thead>\n",
       "  <tbody>\n",
       "    <tr>\n",
       "      <th>0</th>\n",
       "      <td>GS-032</td>\n",
       "    </tr>\n",
       "    <tr>\n",
       "      <th>1</th>\n",
       "      <td>22/08/2017</td>\n",
       "    </tr>\n",
       "    <tr>\n",
       "      <th>2</th>\n",
       "      <td>Rs16,640</td>\n",
       "    </tr>\n",
       "    <tr>\n",
       "      <th>3</th>\n",
       "      <td>N-10-01/2016-17</td>\n",
       "    </tr>\n",
       "    <tr>\n",
       "      <th>4</th>\n",
       "      <td>10-11-2017</td>\n",
       "    </tr>\n",
       "  </tbody>\n",
       "</table>\n",
       "</div>"
      ],
      "text/plain": [
       "            groups\n",
       "0           GS-032\n",
       "1       22/08/2017\n",
       "2         Rs16,640\n",
       "3  N-10-01/2016-17\n",
       "4       10-11-2017"
      ]
     },
     "execution_count": 4,
     "metadata": {},
     "output_type": "execute_result"
    }
   ],
   "source": [
    "X = df[['groups']]\n",
    "X.head()"
   ]
  },
  {
   "cell_type": "code",
   "execution_count": 5,
   "metadata": {},
   "outputs": [
    {
     "data": {
      "text/plain": [
       "0     0.632394\n",
       "18    0.100000\n",
       "2     0.100000\n",
       "1     0.097183\n",
       "14    0.039437\n",
       "8     0.030986\n",
       "Name: label, dtype: float64"
      ]
     },
     "execution_count": 5,
     "metadata": {},
     "output_type": "execute_result"
    }
   ],
   "source": [
    "y = df['label']\n",
    "y.value_counts()/y.shape"
   ]
  },
  {
   "cell_type": "code",
   "execution_count": 6,
   "metadata": {},
   "outputs": [
    {
     "name": "stderr",
     "output_type": "stream",
     "text": [
      "Using TensorFlow backend.\n"
     ]
    }
   ],
   "source": [
    "from keras.preprocessing.text import Tokenizer\n",
    "max_features = 4000\n",
    "tokenizer = Tokenizer(num_words=max_features, filters='!\"#$%&()*+,-./:;<=>?@[\\]^_`{|}~', split=' ', lower=True, )\n",
    "tokenizer.fit_on_texts(X['groups'].values)\n",
    "\n",
    "X = tokenizer.texts_to_sequences(X['groups'].values)\n",
    "\n",
    "# add padding\n",
    "from keras.preprocessing.sequence import pad_sequences\n",
    "X = pad_sequences(X, maxlen=40)"
   ]
  },
  {
   "cell_type": "code",
   "execution_count": null,
   "metadata": {},
   "outputs": [],
   "source": []
  },
  {
   "cell_type": "markdown",
   "metadata": {},
   "source": [
    "###Applying Pca"
   ]
  },
  {
   "cell_type": "code",
   "execution_count": 7,
   "metadata": {},
   "outputs": [],
   "source": [
    "from sklearn.decomposition import PCA"
   ]
  },
  {
   "cell_type": "code",
   "execution_count": 8,
   "metadata": {},
   "outputs": [],
   "source": [
    "pca =PCA(n_components=10)"
   ]
  },
  {
   "cell_type": "code",
   "execution_count": 9,
   "metadata": {},
   "outputs": [
    {
     "data": {
      "text/plain": [
       "PCA(copy=True, iterated_power='auto', n_components=10, random_state=None,\n",
       "  svd_solver='auto', tol=0.0, whiten=False)"
      ]
     },
     "execution_count": 9,
     "metadata": {},
     "output_type": "execute_result"
    }
   ],
   "source": [
    "pca.fit(X)"
   ]
  },
  {
   "cell_type": "code",
   "execution_count": 10,
   "metadata": {},
   "outputs": [
    {
     "data": {
      "image/png": "[encoded data removed]",
      "text/plain": [
       "<Figure size 432x288 with 1 Axes>"
      ]
     },
     "metadata": {},
     "output_type": "display_data"
    }
   ],
   "source": [
    "plt.plot(np.cumsum(pca.explained_variance_ratio_)*100)\n",
    "plt.xlabel(\"No. of components\")\n",
    "plt.ylabel(\"cummulative explained Variance\");"
   ]
  },
  {
   "cell_type": "code",
   "execution_count": 11,
   "metadata": {},
   "outputs": [
    {
     "data": {
      "text/plain": [
       "(710, 10)"
      ]
     },
     "execution_count": 11,
     "metadata": {},
     "output_type": "execute_result"
    }
   ],
   "source": [
    "X_pca = pca.transform(X)\n",
    "X_pca.shape"
   ]
  },
  {
   "cell_type": "markdown",
   "metadata": {},
   "source": [
    "### Evaluation Function"
   ]
  },
  {
   "cell_type": "code",
   "execution_count": 12,
   "metadata": {},
   "outputs": [],
   "source": [
    "from sklearn.model_selection import cross_val_predict, cross_val_score\n",
    "from sklearn.metrics import accuracy_score, classification_report, confusion_matrix\n",
    "def print_score(clf, X_train, X_test, y_train, y_test, train = True):\n",
    "#     print accuracy score, classification report, confusion metrics\n",
    "    if train:\n",
    "#         training performance\n",
    "        print('Train Result : \\n')\n",
    "        print('Accuracy Score {0:.4f}\\n'.format(accuracy_score(y_train, clf.predict(X_train))))\n",
    "        print('Classification Report : \\n {} \\n'.format(classification_report(y_train, clf.predict(X_train))))\n",
    "        print('Confusion Metrics : \\n {} \\n'.format(confusion_matrix(y_train, clf.predict(X_train))))\n",
    "        \n",
    "        res = cross_val_score(clf, X_train, y_train, cv = 10, scoring='accuracy')\n",
    "        print('Average Accuracy : {0:.4f}\\n'.format(np.mean(res)))\n",
    "        print('Accuracy SD : {0:.4f}\\n'.format(np.std(res)))\n",
    "        \n",
    "    elif train == False:\n",
    "#         test performance\n",
    "        print('Test Result : \\n')\n",
    "        print('Accuracy Score {0:.4f}\\n'.format(accuracy_score(y_test, clf.predict(X_test))))\n",
    "        print('Classification Report : \\n {}\\n'.format(classification_report(y_test, clf.predict(X_test))))\n",
    "        print('Confusion Metrics : \\n {} \\n'.format(confusion_matrix(y_test, clf.predict(X_test))))\n"
   ]
  },
  {
   "cell_type": "code",
   "execution_count": 13,
   "metadata": {},
   "outputs": [],
   "source": [
    "from sklearn.model_selection import train_test_split\n",
    "X_train, X_test, y_train, y_test = train_test_split(X, y, test_size = 0.2, random_state = 42)"
   ]
  },
  {
   "cell_type": "code",
   "execution_count": 14,
   "metadata": {},
   "outputs": [],
   "source": [
    "from sklearn.tree import DecisionTreeClassifier\n",
    "from sklearn.model_selection import GridSearchCV"
   ]
  },
  {
   "cell_type": "code",
   "execution_count": 15,
   "metadata": {},
   "outputs": [],
   "source": [
    "dt_clf = DecisionTreeClassifier()\n",
    "params = {'min_samples_split': range(2, 20),\n",
    "          'min_samples_leaf': range(2, 10),\n",
    "          'max_depth': [5, 10, 15, 20]}\n",
    "clf = GridSearchCV(dt_clf, param_grid=params, cv=10)\n"
   ]
  },
  {
   "cell_type": "code",
   "execution_count": 16,
   "metadata": {},
   "outputs": [
    {
     "data": {
      "text/plain": [
       "GridSearchCV(cv=10, error_score='raise',\n",
       "       estimator=DecisionTreeClassifier(class_weight=None, criterion='gini', max_depth=None,\n",
       "            max_features=None, max_leaf_nodes=None,\n",
       "            min_impurity_decrease=0.0, min_impurity_split=None,\n",
       "            min_samples_leaf=1, min_samples_split=2,\n",
       "            min_weight_fraction_leaf=0.0, presort=False, random_state=None,\n",
       "            splitter='best'),\n",
       "       fit_params=None, iid=True, n_jobs=1,\n",
       "       param_grid={'max_depth': [5, 10, 15, 20], 'min_samples_split': range(2, 20), 'min_samples_leaf': range(2, 10)},\n",
       "       pre_dispatch='2*n_jobs', refit=True, return_train_score='warn',\n",
       "       scoring=None, verbose=0)"
      ]
     },
     "execution_count": 16,
     "metadata": {},
     "output_type": "execute_result"
    }
   ],
   "source": [
    "clf.fit(X_train, y_train)"
   ]
  },
  {
   "cell_type": "code",
   "execution_count": 17,
   "metadata": {},
   "outputs": [
    {
     "name": "stdout",
     "output_type": "stream",
     "text": [
      "Train Result : \n",
      "\n",
      "Accuracy Score 0.8803\n",
      "\n",
      "Classification Report : \n",
      "              precision    recall  f1-score   support\n",
      "\n",
      "          0       0.94      0.97      0.95       370\n",
      "          1       0.86      0.96      0.91        57\n",
      "          2       0.78      0.71      0.74        51\n",
      "          8       0.55      0.40      0.46        15\n",
      "         14       0.50      0.38      0.43        21\n",
      "         18       0.73      0.69      0.70        54\n",
      "\n",
      "avg / total       0.87      0.88      0.87       568\n",
      " \n",
      "\n",
      "Confusion Metrics : \n",
      " [[358   6   1   1   0   4]\n",
      " [  2  55   0   0   0   0]\n",
      " [  2   0  36   0   6   7]\n",
      " [  5   0   2   6   1   1]\n",
      " [  0   3   4   4   8   2]\n",
      " [ 13   0   3   0   1  37]] \n",
      "\n",
      "Average Accuracy : 0.8296\n",
      "\n",
      "Accuracy SD : 0.0394\n",
      "\n",
      "Test Result : \n",
      "\n",
      "Accuracy Score 0.7606\n",
      "\n",
      "Classification Report : \n",
      "              precision    recall  f1-score   support\n",
      "\n",
      "          0       0.84      0.92      0.88        79\n",
      "          1       0.69      0.92      0.79        12\n",
      "          2       0.69      0.55      0.61        20\n",
      "          8       0.60      0.43      0.50         7\n",
      "         14       0.40      0.29      0.33         7\n",
      "         18       0.62      0.47      0.53        17\n",
      "\n",
      "avg / total       0.74      0.76      0.75       142\n",
      "\n",
      "\n",
      "Confusion Metrics : \n",
      " [[73  2  0  0  0  4]\n",
      " [ 1 11  0  0  0  0]\n",
      " [ 3  3 11  0  2  1]\n",
      " [ 2  0  1  3  1  0]\n",
      " [ 0  0  3  2  2  0]\n",
      " [ 8  0  1  0  0  8]] \n",
      "\n"
     ]
    }
   ],
   "source": [
    "print_score(clf, X_train, X_test, y_train, y_test, train = True)\n",
    "print_score(clf, X_train, X_test, y_train, y_test, train = False)"
   ]
  },
  {
   "cell_type": "code",
   "execution_count": 19,
   "metadata": {},
   "outputs": [
    {
     "data": {
      "text/plain": [
       "DecisionTreeClassifier(class_weight=None, criterion='gini', max_depth=10,\n",
       "            max_features=None, max_leaf_nodes=None,\n",
       "            min_impurity_decrease=0.0, min_impurity_split=None,\n",
       "            min_samples_leaf=3, min_samples_split=19,\n",
       "            min_weight_fraction_leaf=0.0, presort=False, random_state=None,\n",
       "            splitter='best')"
      ]
     },
     "execution_count": 19,
     "metadata": {},
     "output_type": "execute_result"
    }
   ],
   "source": [
    "clf.best_estimator_"
   ]
  },
  {
   "cell_type": "code",
   "execution_count": 18,
   "metadata": {},
   "outputs": [
    {
     "name": "stdout",
     "output_type": "stream",
     "text": [
      "Train Result : \n",
      "\n",
      "Accuracy Score 0.9894\n",
      "\n",
      "Classification Report : \n",
      "              precision    recall  f1-score   support\n",
      "\n",
      "          0       0.99      0.99      0.99       370\n",
      "          1       0.98      1.00      0.99        57\n",
      "          2       1.00      0.98      0.99        51\n",
      "          8       0.93      0.93      0.93        15\n",
      "         14       0.95      0.95      0.95        21\n",
      "         18       0.98      0.98      0.98        54\n",
      "\n",
      "avg / total       0.99      0.99      0.99       568\n",
      " \n",
      "\n",
      "Confusion Metrics : \n",
      " [[368   1   0   0   0   1]\n",
      " [  0  57   0   0   0   0]\n",
      " [  1   0  50   0   0   0]\n",
      " [  0   0   0  14   1   0]\n",
      " [  0   0   0   1  20   0]\n",
      " [  1   0   0   0   0  53]] \n",
      "\n",
      "Average Accuracy : 0.8611\n",
      "\n",
      "Accuracy SD : 0.0364\n",
      "\n",
      "Test Result : \n",
      "\n",
      "Accuracy Score 0.8380\n",
      "\n",
      "Classification Report : \n",
      "              precision    recall  f1-score   support\n",
      "\n",
      "          0       0.90      0.96      0.93        79\n",
      "          1       0.73      0.92      0.81        12\n",
      "          2       0.74      0.70      0.72        20\n",
      "          8       0.83      0.71      0.77         7\n",
      "         14       0.50      0.57      0.53         7\n",
      "         18       0.90      0.53      0.67        17\n",
      "\n",
      "avg / total       0.84      0.84      0.83       142\n",
      "\n",
      "\n",
      "Confusion Metrics : \n",
      " [[76  1  0  0  1  1]\n",
      " [ 1 11  0  0  0  0]\n",
      " [ 2  3 14  0  1  0]\n",
      " [ 0  0  1  5  1  0]\n",
      " [ 0  0  2  1  4  0]\n",
      " [ 5  0  2  0  1  9]] \n",
      "\n"
     ]
    }
   ],
   "source": [
    "from sklearn.ensemble import BaggingClassifier\n",
    "bag_clf = BaggingClassifier(n_estimators=300)\n",
    "bag_clf.fit(X_train, y_train)\n",
    "print_score(bag_clf, X_train, X_test, y_train, y_test, train = True)\n",
    "print_score(bag_clf, X_train, X_test, y_train, y_test, train = False)"
   ]
  },
  {
   "cell_type": "code",
   "execution_count": 21,
   "metadata": {},
   "outputs": [],
   "source": [
    "from sklearn.ensemble import RandomForestClassifier\n",
    "params = {'base_estimator': [DecisionTreeClassifier(criterion='entropy', max_depth=10, min_samples_split=19, min_samples_leaf=3), RandomForestClassifier()],\n",
    "          'n_estimators': [100, 200]}"
   ]
  },
  {
   "cell_type": "code",
   "execution_count": 22,
   "metadata": {},
   "outputs": [],
   "source": [
    "clf = GridSearchCV(bag_clf, param_grid=params, cv=10)"
   ]
  },
  {
   "cell_type": "code",
   "execution_count": 23,
   "metadata": {},
   "outputs": [
    {
     "data": {
      "text/plain": [
       "GridSearchCV(cv=10, error_score='raise',\n",
       "       estimator=BaggingClassifier(base_estimator=None, bootstrap=True,\n",
       "         bootstrap_features=False, max_features=1.0, max_samples=1.0,\n",
       "         n_estimators=300, n_jobs=1, oob_score=False, random_state=None,\n",
       "         verbose=0, warm_start=False),\n",
       "       fit_params=None, iid=True, n_jobs=1,\n",
       "       param_grid={'n_estimators': [100, 200], 'base_estimator': [DecisionTreeClassifier(class_weight=None, criterion='entropy', max_depth=10,\n",
       "            max_features=None, max_leaf_nodes=None,\n",
       "            min_impurity_decrease=0.0, min_impurity_split=None,\n",
       "            min_samples_leaf=3, min_samples_spli...n_jobs=1,\n",
       "            oob_score=False, random_state=None, verbose=0,\n",
       "            warm_start=False)]},\n",
       "       pre_dispatch='2*n_jobs', refit=True, return_train_score='warn',\n",
       "       scoring=None, verbose=0)"
      ]
     },
     "execution_count": 23,
     "metadata": {},
     "output_type": "execute_result"
    }
   ],
   "source": [
    "clf.fit(X_train, y_train)"
   ]
  },
  {
   "cell_type": "code",
   "execution_count": 24,
   "metadata": {},
   "outputs": [
    {
     "data": {
      "text/plain": [
       "BaggingClassifier(base_estimator=RandomForestClassifier(bootstrap=True, class_weight=None, criterion='gini',\n",
       "            max_depth=None, max_features='auto', max_leaf_nodes=None,\n",
       "            min_impurity_decrease=0.0, min_impurity_split=None,\n",
       "            min_samples_leaf=1, min_samples_split=2,\n",
       "            min_weight_fraction_leaf=0.0, n_estimators=10, n_jobs=1,\n",
       "            oob_score=False, random_state=None, verbose=0,\n",
       "            warm_start=False),\n",
       "         bootstrap=True, bootstrap_features=False, max_features=1.0,\n",
       "         max_samples=1.0, n_estimators=100, n_jobs=1, oob_score=False,\n",
       "         random_state=None, verbose=0, warm_start=False)"
      ]
     },
     "execution_count": 24,
     "metadata": {},
     "output_type": "execute_result"
    }
   ],
   "source": [
    "clf.best_estimator_"
   ]
  },
  {
   "cell_type": "code",
   "execution_count": 26,
   "metadata": {},
   "outputs": [
    {
     "name": "stdout",
     "output_type": "stream",
     "text": [
      "Train Result : \n",
      "\n",
      "Accuracy Score 0.9701\n",
      "\n",
      "Classification Report : \n",
      "              precision    recall  f1-score   support\n",
      "\n",
      "          0       0.98      0.99      0.99       370\n",
      "          1       0.95      1.00      0.97        57\n",
      "          2       0.92      0.96      0.94        51\n",
      "          8       1.00      0.80      0.89        15\n",
      "         14       0.86      0.90      0.88        21\n",
      "         18       1.00      0.87      0.93        54\n",
      "\n",
      "avg / total       0.97      0.97      0.97       568\n",
      " \n",
      "\n",
      "Confusion Metrics : \n",
      " [[367   3   0   0   0   0]\n",
      " [  0  57   0   0   0   0]\n",
      " [  2   0  49   0   0   0]\n",
      " [  0   0   0  12   3   0]\n",
      " [  0   0   2   0  19   0]\n",
      " [  5   0   2   0   0  47]] \n",
      "\n",
      "Average Accuracy : 0.8349\n",
      "\n",
      "Accuracy SD : 0.0469\n",
      "\n",
      "Test Result : \n",
      "\n",
      "Accuracy Score 0.8028\n",
      "\n",
      "Classification Report : \n",
      "              precision    recall  f1-score   support\n",
      "\n",
      "          0       0.85      0.95      0.90        79\n",
      "          1       0.69      0.75      0.72        12\n",
      "          2       0.76      0.65      0.70        20\n",
      "          8       0.83      0.71      0.77         7\n",
      "         14       0.50      0.57      0.53         7\n",
      "         18       0.80      0.47      0.59        17\n",
      "\n",
      "avg / total       0.80      0.80      0.79       142\n",
      "\n",
      "\n",
      "Confusion Metrics : \n",
      " [[75  1  0  0  1  2]\n",
      " [ 3  9  0  0  0  0]\n",
      " [ 4  2 13  0  1  0]\n",
      " [ 0  0  1  5  1  0]\n",
      " [ 0  0  2  1  4  0]\n",
      " [ 6  1  1  0  1  8]] \n",
      "\n"
     ]
    }
   ],
   "source": [
    "print_score(clf, X_train, X_test, y_train, y_test, train = True)\n",
    "print_score(clf, X_train, X_test, y_train, y_test, train = False)"
   ]
  },
  {
   "cell_type": "code",
   "execution_count": 27,
   "metadata": {},
   "outputs": [],
   "source": [
    "rf_clf = RandomForestClassifier()\n",
    "params = {'max_depth': [5, 10, 15],\n",
    "          'min_samples_split': range(2,10),\n",
    "          'min_samples_leaf': range(2, 10)}\n",
    "clf = GridSearchCV(rf_clf, param_grid=params, cv = 10)"
   ]
  },
  {
   "cell_type": "code",
   "execution_count": 29,
   "metadata": {},
   "outputs": [
    {
     "data": {
      "text/plain": [
       "GridSearchCV(cv=10, error_score='raise',\n",
       "       estimator=RandomForestClassifier(bootstrap=True, class_weight=None, criterion='gini',\n",
       "            max_depth=None, max_features='auto', max_leaf_nodes=None,\n",
       "            min_impurity_decrease=0.0, min_impurity_split=None,\n",
       "            min_samples_leaf=1, min_samples_split=2,\n",
       "            min_weight_fraction_leaf=0.0, n_estimators=10, n_jobs=1,\n",
       "            oob_score=False, random_state=None, verbose=0,\n",
       "            warm_start=False),\n",
       "       fit_params=None, iid=True, n_jobs=1,\n",
       "       param_grid={'min_samples_split': range(2, 10), 'max_depth': [5, 10, 15], 'min_samples_leaf': range(2, 10)},\n",
       "       pre_dispatch='2*n_jobs', refit=True, return_train_score='warn',\n",
       "       scoring=None, verbose=0)"
      ]
     },
     "execution_count": 29,
     "metadata": {},
     "output_type": "execute_result"
    }
   ],
   "source": [
    "clf = GridSearchCV(rf_clf, param_grid=params, cv = 10)\n",
    "clf.fit(X_train,y_train)"
   ]
  },
  {
   "cell_type": "code",
   "execution_count": 30,
   "metadata": {},
   "outputs": [
    {
     "name": "stdout",
     "output_type": "stream",
     "text": [
      "Train Result : \n",
      "\n",
      "Accuracy Score 0.9137\n",
      "\n",
      "Classification Report : \n",
      "              precision    recall  f1-score   support\n",
      "\n",
      "          0       0.92      0.99      0.96       370\n",
      "          1       0.92      0.95      0.93        57\n",
      "          2       0.88      0.86      0.87        51\n",
      "          8       1.00      0.13      0.24        15\n",
      "         14       0.77      0.81      0.79        21\n",
      "         18       0.95      0.65      0.77        54\n",
      "\n",
      "avg / total       0.92      0.91      0.90       568\n",
      " \n",
      "\n",
      "Confusion Metrics : \n",
      " [[367   3   0   0   0   0]\n",
      " [  2  54   0   0   0   1]\n",
      " [  6   0  44   0   1   0]\n",
      " [  8   0   1   2   3   1]\n",
      " [  2   1   1   0  17   0]\n",
      " [ 13   1   4   0   1  35]] \n",
      "\n",
      "Average Accuracy : 0.8140\n",
      "\n",
      "Accuracy SD : 0.0483\n",
      "\n",
      "Test Result : \n",
      "\n",
      "Accuracy Score 0.7535\n",
      "\n",
      "Classification Report : \n",
      "              precision    recall  f1-score   support\n",
      "\n",
      "          0       0.77      0.96      0.85        79\n",
      "          1       0.73      0.67      0.70        12\n",
      "          2       0.73      0.55      0.63        20\n",
      "          8       1.00      0.14      0.25         7\n",
      "         14       0.56      0.71      0.63         7\n",
      "         18       0.86      0.35      0.50        17\n",
      "\n",
      "avg / total       0.77      0.75      0.73       142\n",
      "\n",
      "\n",
      "Confusion Metrics : \n",
      " [[76  1  0  0  1  1]\n",
      " [ 4  8  0  0  0  0]\n",
      " [ 7  1 11  0  1  0]\n",
      " [ 4  0  1  1  1  0]\n",
      " [ 0  0  2  0  5  0]\n",
      " [ 8  1  1  0  1  6]] \n",
      "\n"
     ]
    }
   ],
   "source": [
    "print_score(clf, X_train, X_test, y_train, y_test, train = True)\n",
    "print_score(clf, X_train, X_test, y_train, y_test, train = False)"
   ]
  },
  {
   "cell_type": "code",
   "execution_count": 31,
   "metadata": {},
   "outputs": [
    {
     "data": {
      "text/plain": [
       "RandomForestClassifier(bootstrap=True, class_weight=None, criterion='gini',\n",
       "            max_depth=15, max_features='auto', max_leaf_nodes=None,\n",
       "            min_impurity_decrease=0.0, min_impurity_split=None,\n",
       "            min_samples_leaf=2, min_samples_split=2,\n",
       "            min_weight_fraction_leaf=0.0, n_estimators=10, n_jobs=1,\n",
       "            oob_score=False, random_state=None, verbose=0,\n",
       "            warm_start=False)"
      ]
     },
     "execution_count": 31,
     "metadata": {},
     "output_type": "execute_result"
    }
   ],
   "source": [
    "clf.best_estimator_"
   ]
  },
  {
   "cell_type": "code",
   "execution_count": 35,
   "metadata": {},
   "outputs": [],
   "source": [
    "from sklearn.ensemble import AdaBoostClassifier\n",
    "clf = AdaBoostClassifier(base_estimator=DecisionTreeClassifier(criterion='entropy', max_depth=10, min_samples_leaf=5, min_samples_split=6), learning_rate=4.5, n_estimators=100)"
   ]
  },
  {
   "cell_type": "code",
   "execution_count": 36,
   "metadata": {},
   "outputs": [
    {
     "data": {
      "text/plain": [
       "AdaBoostClassifier(algorithm='SAMME.R',\n",
       "          base_estimator=DecisionTreeClassifier(class_weight=None, criterion='entropy', max_depth=10,\n",
       "            max_features=None, max_leaf_nodes=None,\n",
       "            min_impurity_decrease=0.0, min_impurity_split=None,\n",
       "            min_samples_leaf=5, min_samples_split=6,\n",
       "            min_weight_fraction_leaf=0.0, presort=False, random_state=None,\n",
       "            splitter='best'),\n",
       "          learning_rate=4.5, n_estimators=100, random_state=None)"
      ]
     },
     "execution_count": 36,
     "metadata": {},
     "output_type": "execute_result"
    }
   ],
   "source": [
    "clf.fit(X_train, y_train)"
   ]
  },
  {
   "cell_type": "code",
   "execution_count": 37,
   "metadata": {},
   "outputs": [
    {
     "name": "stdout",
     "output_type": "stream",
     "text": [
      "Train Result : \n",
      "\n",
      "Accuracy Score 0.8856\n",
      "\n",
      "Classification Report : \n",
      "              precision    recall  f1-score   support\n",
      "\n",
      "          0       0.93      0.94      0.93       370\n",
      "          1       0.84      0.74      0.79        57\n",
      "          2       0.93      0.76      0.84        51\n",
      "          8       1.00      0.60      0.75        15\n",
      "         14       0.78      0.86      0.82        21\n",
      "         18       0.67      0.91      0.77        54\n",
      "\n",
      "avg / total       0.89      0.89      0.89       568\n",
      " \n",
      "\n",
      "Confusion Metrics : \n",
      " [[346   3   2   0   0  19]\n",
      " [ 15  42   0   0   0   0]\n",
      " [  3   4  39   0   2   3]\n",
      " [  2   0   0   9   3   1]\n",
      " [  0   1   1   0  18   1]\n",
      " [  5   0   0   0   0  49]] \n",
      "\n",
      "Average Accuracy : 0.7909\n",
      "\n",
      "Accuracy SD : 0.0726\n",
      "\n",
      "Test Result : \n",
      "\n",
      "Accuracy Score 0.6901\n",
      "\n",
      "Classification Report : \n",
      "              precision    recall  f1-score   support\n",
      "\n",
      "          0       0.81      0.78      0.79        79\n",
      "          1       0.73      0.67      0.70        12\n",
      "          2       0.71      0.60      0.65        20\n",
      "          8       0.80      0.57      0.67         7\n",
      "         14       0.38      0.43      0.40         7\n",
      "         18       0.38      0.53      0.44        17\n",
      "\n",
      "avg / total       0.71      0.69      0.70       142\n",
      "\n",
      "\n",
      "Confusion Metrics : \n",
      " [[62  0  1  0  1 15]\n",
      " [ 4  8  0  0  0  0]\n",
      " [ 4  2 12  0  2  0]\n",
      " [ 1  0  1  4  1  0]\n",
      " [ 0  0  3  1  3  0]\n",
      " [ 6  1  0  0  1  9]] \n",
      "\n"
     ]
    }
   ],
   "source": [
    "print_score(clf, X_train, X_test, y_train, y_test, train = True)\n",
    "print_score(clf, X_train, X_test, y_train, y_test, train = False)"
   ]
  },
  {
   "cell_type": "code",
   "execution_count": null,
   "metadata": {},
   "outputs": [],
   "source": [
    "from keras.models import model_from_json\n",
    "model_json = clf.to_json()\n",
    "with open(\"ann first.json\", \"w\") as json_file:\n",
    "    json_file.write(model_json)\n",
    "# serialize weights to HDF5\n",
    "clf.save_weights(\"model.h5\")"
   ]
  }
 ],
 "metadata": {
  "kernelspec": {
   "display_name": "Python 3",
   "language": "python",
   "name": "python3"
  },
  "language_info": {
   "codemirror_mode": {
    "name": "ipython",
    "version": 3
   },
   "file_extension": ".py",
   "mimetype": "text/x-python",
   "name": "python",
   "nbconvert_exporter": "python",
   "pygments_lexer": "ipython3",
   "version": "3.5.5"
  }
 },
 "nbformat": 4,
 "nbformat_minor": 2
}
